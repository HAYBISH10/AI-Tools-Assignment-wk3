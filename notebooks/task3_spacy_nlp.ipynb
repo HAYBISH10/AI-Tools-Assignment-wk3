{
 "cells": [
  {
   "cell_type": "code",
   "execution_count": 2,
   "id": "9baeaf36-da1b-4fb8-ab46-0f1f91821360",
   "metadata": {},
   "outputs": [
    {
     "name": "stdout",
     "output_type": "stream",
     "text": [
      "Downloading 'en_core_web_sm' model...\n",
      "\u001b[38;5;2m✔ Download and installation successful\u001b[0m\n",
      "You can now load the package via spacy.load('en_core_web_sm')\n",
      "\u001b[38;5;3m⚠ Restart to reload dependencies\u001b[0m\n",
      "If you are in a Jupyter or Colab notebook, you may need to restart Python in\n",
      "order to load all the package's dependencies. You can do this by selecting the\n",
      "'Restart kernel' or 'Restart runtime' option.\n",
      "spaCy model loaded successfully ✅\n"
     ]
    }
   ],
   "source": [
    "# 1️⃣ Install and load spaCy model safely\n",
    "import spacy\n",
    "from spacy.cli import download\n",
    "\n",
    "# Try loading the model; if not found, download it\n",
    "try:\n",
    "    nlp = spacy.load(\"en_core_web_sm\")\n",
    "except OSError:\n",
    "    print(\"Downloading 'en_core_web_sm' model...\")\n",
    "    download(\"en_core_web_sm\")\n",
    "    nlp = spacy.load(\"en_core_web_sm\")\n",
    "\n",
    "print(\"spaCy model loaded successfully ✅\")\n"
   ]
  },
  {
   "cell_type": "code",
   "execution_count": 3,
   "id": "a61add99-3b69-43cc-b623-39c5359c1483",
   "metadata": {},
   "outputs": [
    {
     "name": "stdout",
     "output_type": "stream",
     "text": [
      "📝 Review: I love my new Samsung phone, the camera quality is amazing!\n",
      "🧩 Entities:\n",
      "  Samsung → ORG\n",
      "💬 Sentiment: Positive\n",
      "--------------------------------------------------\n",
      "📝 Review: The product arrived late and the packaging was damaged.\n",
      "🧩 Entities:\n",
      "💬 Sentiment: Negative\n",
      "--------------------------------------------------\n",
      "📝 Review: Apple AirPods are overpriced but sound quality is excellent.\n",
      "🧩 Entities:\n",
      "  Apple AirPods → ORG\n",
      "💬 Sentiment: Neutral\n",
      "--------------------------------------------------\n",
      "📝 Review: The laptop from Dell performs really fast and smoothly.\n",
      "🧩 Entities:\n",
      "  Dell performs → ORG\n",
      "💬 Sentiment: Positive\n",
      "--------------------------------------------------\n"
     ]
    }
   ],
   "source": [
    "# 💬 Task 3: NLP with spaCy – NER and Sentiment Analysis\n",
    "\n",
    "# 1. Import Libraries\n",
    "import spacy\n",
    "\n",
    "# 2. Load spaCy Model\n",
    "nlp = spacy.load(\"en_core_web_sm\")\n",
    "\n",
    "# 3. Example Reviews (you can replace with data from amazon_reviews_sample.csv)\n",
    "reviews = [\n",
    "    \"I love my new Samsung phone, the camera quality is amazing!\",\n",
    "    \"The product arrived late and the packaging was damaged.\",\n",
    "    \"Apple AirPods are overpriced but sound quality is excellent.\",\n",
    "    \"The laptop from Dell performs really fast and smoothly.\"\n",
    "]\n",
    "\n",
    "# 4. Rule-based Sentiment Function\n",
    "def get_sentiment(text):\n",
    "    positive_words = [\"good\", \"great\", \"amazing\", \"excellent\", \"love\", \"fast\"]\n",
    "    negative_words = [\"bad\", \"poor\", \"terrible\", \"late\", \"damaged\", \"slow\"]\n",
    "    score = 0\n",
    "    for word in text.lower().split():\n",
    "        if word in positive_words:\n",
    "            score += 1\n",
    "        elif word in negative_words:\n",
    "            score -= 1\n",
    "    if score > 0:\n",
    "        return \"Positive\"\n",
    "    elif score < 0:\n",
    "        return \"Negative\"\n",
    "    else:\n",
    "        return \"Neutral\"\n",
    "\n",
    "# 5. Process Each Review\n",
    "for review in reviews:\n",
    "    doc = nlp(review)\n",
    "    print(\"📝 Review:\", review)\n",
    "    print(\"🧩 Entities:\")\n",
    "    for ent in doc.ents:\n",
    "        print(f\"  {ent.text} → {ent.label_}\")\n",
    "    print(\"💬 Sentiment:\", get_sentiment(review))\n",
    "    print(\"-\" * 50)\n"
   ]
  },
  {
   "cell_type": "code",
   "execution_count": null,
   "id": "9ea5bbed-185f-487f-9a74-305947df3766",
   "metadata": {},
   "outputs": [],
   "source": []
  }
 ],
 "metadata": {
  "kernelspec": {
   "display_name": "Python 3 (ipykernel)",
   "language": "python",
   "name": "python3"
  },
  "language_info": {
   "codemirror_mode": {
    "name": "ipython",
    "version": 3
   },
   "file_extension": ".py",
   "mimetype": "text/x-python",
   "name": "python",
   "nbconvert_exporter": "python",
   "pygments_lexer": "ipython3",
   "version": "3.12.3"
  }
 },
 "nbformat": 4,
 "nbformat_minor": 5
}
